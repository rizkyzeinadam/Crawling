{
 "cells": [
  {
   "cell_type": "code",
   "execution_count": 21,
   "id": "35145a89",
   "metadata": {},
   "outputs": [],
   "source": [
    "import pandas as pd\n",
    "from bs4 import BeautifulSoup\n",
    "from selenium import webdriver\n",
    "from selenium.webdriver.chrome.options import Options"
   ]
  },
  {
   "cell_type": "code",
   "execution_count": 22,
   "id": "252892e6",
   "metadata": {},
   "outputs": [],
   "source": [
    "link = 'https://www.tokopedia.com/search?st=product&q=card%20reader%20&srp_component_id=02.01.00.00&srp_page_id=&srp_page_title=&navsource='"
   ]
  },
  {
   "cell_type": "code",
   "execution_count": 26,
   "id": "4656aeb0",
   "metadata": {},
   "outputs": [],
   "source": [
    "chrome_options = Options()\n",
    "chrome_options.add_argument('--no-sandbox')\n",
    "chrome_options.add_argument('disable-notifications')\n",
    "chrome_options.add_argument('--disable-infobars')\n",
    "# chrome_options.add_argument('--headless')\n",
    "chrome_options.add_argument('--headless')\n",
    "chrome_options.add_argument('--disable-dev-shm-usage')\n",
    "\n",
    "\n",
    "driver = webdriver.Chrome(options = chrome_options)\n",
    "\n",
    "driver.get(link)"
   ]
  },
  {
   "cell_type": "code",
   "execution_count": 27,
   "id": "aceaa06f",
   "metadata": {},
   "outputs": [],
   "source": [
    "html = driver.execute_script(\"return document.getElementsByTagName('html')[0].innerHTML\")\n",
    "soup = BeautifulSoup(html, \"html.parser\")"
   ]
  },
  {
   "cell_type": "code",
   "execution_count": 52,
   "id": "6a08567d",
   "metadata": {},
   "outputs": [
    {
     "data": {
      "text/plain": [
       "<head></head><body></body>"
      ]
     },
     "execution_count": 52,
     "metadata": {},
     "output_type": "execute_result"
    }
   ],
   "source": [
    "soup"
   ]
  },
  {
   "cell_type": "code",
   "execution_count": 16,
   "id": "167336ee",
   "metadata": {},
   "outputs": [
    {
     "data": {
      "text/plain": [
       "'Card Reader Otg Lightning Iphone 5 6 7/ Ipad 4/ Usb C/ Android Micro'"
      ]
     },
     "execution_count": 16,
     "metadata": {},
     "output_type": "execute_result"
    }
   ],
   "source": [
    "\n",
    "span_element = soup.find('span', class_='OWkG6oHwAppMn1hIBsC3pQ==')\n",
    "span_element.get_text()"
   ]
  },
  {
   "cell_type": "code",
   "execution_count": 17,
   "id": "f8f0ad34",
   "metadata": {},
   "outputs": [],
   "source": [
    "product_tokopedia, harga_tokopedia,nama_toko = [],[],[]\n",
    "for i in soup.find_all('span', class_='OWkG6oHwAppMn1hIBsC3pQ=='):\n",
    "    product_tokopedia.append(i.text)\n",
    "for i in soup.find_all('div', class_='_8cR53N0JqdRc+mQCckhS0g== Phc0SDQ0Yjt43vf3XuwYOg=='):\n",
    "    harga_tokopedia.append(i.text)\n",
    "for i in soup.find_all('span', class_='X6c-fdwuofj6zGvLKVUaNQ== -9tiTbQgmU1vCjykywQqvA== flip'):\n",
    "    nama_toko.append(i.text)\n",
    "# for i in soup.find_all('span', class_='-9tiTbQgmU1vCjykywQqvA== flip'):\n",
    "#     wilayah.append(i.text)"
   ]
  },
  {
   "cell_type": "code",
   "execution_count": 18,
   "id": "93ed079d",
   "metadata": {},
   "outputs": [],
   "source": [
    "data_gabungan = []\n",
    "\n",
    "for product, harga,nama_toko in zip(product_tokopedia, harga_tokopedia, nama_toko):\n",
    "    data = {\n",
    "        'product': product,\n",
    "        'harga': harga,\n",
    "        'nama_toko':nama_toko\n",
    "    }\n",
    "    data_gabungan.append(data)"
   ]
  },
  {
   "cell_type": "code",
   "execution_count": 19,
   "id": "fd3b4261",
   "metadata": {},
   "outputs": [
    {
     "data": {
      "text/plain": [
       "[{'product': 'Card Reader Otg Lightning Iphone 5 6 7/ Ipad 4/ Usb C/ Android Micro',\n",
       "  'harga': 'Rp110.000',\n",
       "  'nama_toko': 'UGREEN Official Store'},\n",
       " {'product': 'USB HUB Type C To USB 3.0 HDMI VGA,TF CARD READER NEW 8 IN 1',\n",
       "  'harga': 'Rp49.500',\n",
       "  'nama_toko': 'HimTech'},\n",
       " {'product': 'Card Reader UGREEN USB TYPE C / USB A 3.0 To USB 3.0 SD/TF Card etc',\n",
       "  'harga': 'Rp88.000',\n",
       "  'nama_toko': 'HimTech'},\n",
       " {'product': 'UGREEN 30335 USB 3.0 CF SD TF MS Memory Card Reader Komputer PC Laptop',\n",
       "  'harga': 'Rp105.000',\n",
       "  'nama_toko': 'HimTech'}]"
      ]
     },
     "execution_count": 19,
     "metadata": {},
     "output_type": "execute_result"
    }
   ],
   "source": [
    "data_gabungan"
   ]
  }
 ],
 "metadata": {
  "kernelspec": {
   "display_name": "Python 3 (ipykernel)",
   "language": "python",
   "name": "python3"
  },
  "language_info": {
   "codemirror_mode": {
    "name": "ipython",
    "version": 3
   },
   "file_extension": ".py",
   "mimetype": "text/x-python",
   "name": "python",
   "nbconvert_exporter": "python",
   "pygments_lexer": "ipython3",
   "version": "3.9.13"
  }
 },
 "nbformat": 4,
 "nbformat_minor": 5
}
